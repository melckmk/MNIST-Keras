{
 "cells": [
  {
   "cell_type": "markdown",
   "metadata": {},
   "source": [
    "### Installing Dependencies"
   ]
  },
  {
   "cell_type": "code",
   "execution_count": 2,
   "metadata": {},
   "outputs": [
    {
     "name": "stderr",
     "output_type": "stream",
     "text": [
      "Using plaidml.keras.backend backend.\n"
     ]
    }
   ],
   "source": [
    "from os import environ\n",
    "environ['KERAS_BACKEND'] = 'plaidml.keras.backend'\n",
    "import keras\n",
    "from keras import layers\n",
    "import numpy as np\n",
    "import matplotlib.pyplot as plt\n",
    "from sklearn.metrics import confusion_matrix"
   ]
  },
  {
   "cell_type": "markdown",
   "metadata": {},
   "source": [
    "### Loading and Formatting the Data"
   ]
  },
  {
   "cell_type": "code",
   "execution_count": 3,
   "metadata": {},
   "outputs": [],
   "source": [
    "(x_train, y_train), (x_test, y_test) = keras.datasets.mnist.load_data()\n",
    "num_classes = 10\n",
    "input_shape = (28, 28, 1)\n",
    "x_train, x_test = x_train.astype(\"float32\") / 255, x_test.astype(\"float32\") / 255\n",
    "\n",
    "x_train, x_test = np.expand_dims(x_train, -1), np.expand_dims(x_test, -1)\n",
    "\n",
    "y_train = keras.utils.to_categorical(y_train, num_classes)\n",
    "y_test = keras.utils.to_categorical(y_test, num_classes)"
   ]
  },
  {
   "cell_type": "markdown",
   "metadata": {},
   "source": [
    "### Building CNN"
   ]
  },
  {
   "cell_type": "code",
   "execution_count": 7,
   "metadata": {},
   "outputs": [],
   "source": [
    "model = keras.Sequential()\n",
    "model(keras.Input(shape=input_shape))\n",
    "model.add(layers.Conv2D(32, kernel_size=(3,3), activation='relu'))\n",
    "model.add(layers.MaxPooling2D(pool_size=(2,2)))\n",
    "model.add(layers.Conv2D(128, kernel_size=(3,3), activation='relu'))\n",
    "model.add(layers.MaxPooling2D(pool_size=(2,2)))\n",
    "model.add(layers.Flatten())\n",
    "model.add(layers.Dropout(0.5))\n",
    "\n",
    "model.add(layers.Dense(num_classes, activation='softmax'))"
   ]
  },
  {
   "cell_type": "markdown",
   "metadata": {},
   "source": [
    "### Compiling and Training the Model"
   ]
  },
  {
   "cell_type": "code",
   "execution_count": 8,
   "metadata": {},
   "outputs": [
    {
     "name": "stdout",
     "output_type": "stream",
     "text": [
      "Epoch 1/15\n",
      "60000/60000 [==============================] - 20s 340us/step - loss: 0.1764 - acc: 0.9459\n",
      "Epoch 2/15\n",
      "60000/60000 [==============================] - 13s 209us/step - loss: 0.0678 - acc: 0.9792\n",
      "Epoch 3/15\n",
      "60000/60000 [==============================] - 13s 209us/step - loss: 0.0534 - acc: 0.9832\n",
      "Epoch 4/15\n",
      "60000/60000 [==============================] - 13s 208us/step - loss: 0.0433 - acc: 0.9865\n",
      "Epoch 5/15\n",
      "60000/60000 [==============================] - 13s 209us/step - loss: 0.0389 - acc: 0.9878\n",
      "Epoch 6/15\n",
      "60000/60000 [==============================] - 13s 208us/step - loss: 0.0356 - acc: 0.9883\n",
      "Epoch 7/15\n",
      "60000/60000 [==============================] - 13s 209us/step - loss: 0.0308 - acc: 0.9904\n",
      "Epoch 8/15\n",
      "60000/60000 [==============================] - 12s 208us/step - loss: 0.0290 - acc: 0.9905\n",
      "Epoch 9/15\n",
      "60000/60000 [==============================] - 13s 209us/step - loss: 0.0268 - acc: 0.9913\n",
      "Epoch 10/15\n",
      "60000/60000 [==============================] - 13s 209us/step - loss: 0.0228 - acc: 0.9925\n",
      "Epoch 11/15\n",
      "60000/60000 [==============================] - 13s 209us/step - loss: 0.0236 - acc: 0.9923\n",
      "Epoch 12/15\n",
      "60000/60000 [==============================] - 13s 209us/step - loss: 0.0222 - acc: 0.9929\n",
      "Epoch 13/15\n",
      "60000/60000 [==============================] - 13s 209us/step - loss: 0.0214 - acc: 0.9927\n",
      "Epoch 14/15\n",
      "60000/60000 [==============================] - 13s 209us/step - loss: 0.0188 - acc: 0.9937\n",
      "Epoch 15/15\n",
      "60000/60000 [==============================] - 13s 210us/step - loss: 0.0187 - acc: 0.9937\n"
     ]
    },
    {
     "data": {
      "text/plain": [
       "<keras.callbacks.History at 0x2bf3508c608>"
      ]
     },
     "execution_count": 8,
     "metadata": {},
     "output_type": "execute_result"
    }
   ],
   "source": [
    "model.compile(\n",
    "    loss='categorical_crossentropy',\n",
    "    optimizer='adam',\n",
    "    metrics=['accuracy']\n",
    ")\n",
    "\n",
    "model.fit(x_train, y_train, epochs=15)"
   ]
  },
  {
   "cell_type": "markdown",
   "metadata": {},
   "source": [
    "### Evaluating the Model"
   ]
  },
  {
   "cell_type": "code",
   "execution_count": 9,
   "metadata": {},
   "outputs": [
    {
     "name": "stdout",
     "output_type": "stream",
     "text": [
      "10000/10000 [==============================] - 7s 700us/step\n",
      "Accuracy: 0.993\n",
      "Loss: 0.024440516277402638\n"
     ]
    }
   ],
   "source": [
    "score = model.evaluate(x_test, y_test)\n",
    "print(\"Accuracy:\", score[1])\n",
    "print(\"Loss:\", score[0])"
   ]
  },
  {
   "cell_type": "markdown",
   "metadata": {},
   "source": [
    "### Testing the Model"
   ]
  },
  {
   "cell_type": "code",
   "execution_count": 10,
   "metadata": {},
   "outputs": [
    {
     "name": "stdout",
     "output_type": "stream",
     "text": [
      "10000/10000 [==============================] - 4s 415us/step\n"
     ]
    }
   ],
   "source": [
    "y_predicted = model.predict(x_test, verbose=1)\n",
    "y_predicted = np.argmax(y_predicted, axis=1)"
   ]
  },
  {
   "cell_type": "markdown",
   "metadata": {},
   "source": [
    "### Inspecting the Model with Confusion Matrix"
   ]
  },
  {
   "cell_type": "code",
   "execution_count": 11,
   "metadata": {},
   "outputs": [
    {
     "data": {
      "text/plain": [
       "Text(114.0, 0.5, 'Truth')"
      ]
     },
     "execution_count": 11,
     "metadata": {},
     "output_type": "execute_result"
    },
    {
     "data": {
      "image/png": "[encoded data removed]",
      "text/plain": [
       "<Figure size 1080x720 with 2 Axes>"
      ]
     },
     "metadata": {
      "needs_background": "light"
     },
     "output_type": "display_data"
    }
   ],
   "source": [
    "import seaborn as sn\n",
    "conf_matrix = confusion_matrix(np.argmax(y_test, axis=1), y_predicted)\n",
    "plt.figure(figsize = (15,10))\n",
    "sn.heatmap(conf_matrix, annot=True, fmt='d')\n",
    "plt.xlabel('Predicted')\n",
    "plt.ylabel('Truth')"
   ]
  }
 ],
 "metadata": {
  "interpreter": {
   "hash": "8c2dc7f55a4afb133f9671f18548a683b80d7f864af89313bd9839ac682f147f"
  },
  "kernelspec": {
   "display_name": "Python 3.7.9 64-bit",
   "language": "python",
   "name": "python3"
  },
  "language_info": {
   "codemirror_mode": {
    "name": "ipython",
    "version": 3
   },
   "file_extension": ".py",
   "mimetype": "text/x-python",
   "name": "python",
   "nbconvert_exporter": "python",
   "pygments_lexer": "ipython3",
   "version": "3.7.9"
  },
  "orig_nbformat": 4
 },
 "nbformat": 4,
 "nbformat_minor": 2
}
